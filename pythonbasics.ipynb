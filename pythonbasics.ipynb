{
 "cells": [
  {
   "cell_type": "code",
   "execution_count": 50,
   "metadata": {},
   "outputs": [],
   "source": [
    "import pandas as pd"
   ]
  },
  {
   "cell_type": "code",
   "execution_count": 51,
   "metadata": {},
   "outputs": [
    {
     "name": "stdout",
     "output_type": "stream",
     "text": [
      "The variable x has a value :  hello world\n"
     ]
    }
   ],
   "source": [
    "x = \"hello world\"\n",
    "print(\"The variable x has a value : \", x)"
   ]
  },
  {
   "cell_type": "code",
   "execution_count": 52,
   "metadata": {},
   "outputs": [
    {
     "name": "stdout",
     "output_type": "stream",
     "text": [
      "[ 5 15 25 35 45] [1 2 3 4 5]\n"
     ]
    },
    {
     "data": {
      "text/plain": [
       "(array([1., 0., 1., 0., 0., 1., 0., 1., 0., 1.]),\n",
       " array([ 5.,  9., 13., 17., 21., 25., 29., 33., 37., 41., 45.]),\n",
       " <BarContainer object of 10 artists>)"
      ]
     },
     "execution_count": 52,
     "metadata": {},
     "output_type": "execute_result"
    },
    {
     "data": {
      "image/png": "[encoded data removed]",
      "text/plain": [
       "<Figure size 640x480 with 1 Axes>"
      ]
     },
     "metadata": {},
     "output_type": "display_data"
    }
   ],
   "source": [
    "import numpy as np\n",
    "import matplotlib.pyplot as plt\n",
    "import seaborn as sns\n",
    "\n",
    "x = [1, 2, 3, 4, 5]\n",
    "y = [5, 15, 25, 35, 45]\n",
    "\n",
    "x_array = np.array(x)\n",
    "y_array = np.array(y)\n",
    "\n",
    "print(y_array, x_array)\n",
    "\n",
    "plt.hist(y)"
   ]
  },
  {
   "cell_type": "code",
   "execution_count": 53,
   "metadata": {},
   "outputs": [
    {
     "name": "stdout",
     "output_type": "stream",
     "text": [
      "  Ticker                          Company      Industry        Market Cap  \\\n",
      "0   AAPL                       Apple Inc.    Technology  Trillion Dollars   \n",
      "1   MSFT            Microsoft Corporation    Technology  Trillion Dollars   \n",
      "2   AMZN                  Amazon.com Inc.    E-commerce  Trillion Dollars   \n",
      "3  GOOGL           Alphabet Inc. (Google)    Technology  Trillion Dollars   \n",
      "4     FB  Meta Platforms, Inc. (Facebook)  Social Media  Trillion Dollars   \n",
      "\n",
      "   Share_Price                                        Description  \n",
      "0        150.0       Share price for Apple Inc. in September 2021  \n",
      "1        300.0  Share price for Microsoft Corporation in Septe...  \n",
      "2       3400.0  Share price for Amazon.com Inc. in September 2021  \n",
      "3       2700.0    Share price for Alphabet Inc. in September 2021  \n",
      "4        330.0  Share price for Meta Platforms, Inc. in Septem...  \n"
     ]
    }
   ],
   "source": [
    "nasdaq_top_companies = [\n",
    "    {\n",
    "        \"Ticker\": \"AAPL\",\n",
    "        \"Company\": \"Apple Inc.\",\n",
    "        \"Industry\": \"Technology\",\n",
    "        \"Market Cap\": \"Trillion Dollars\",\n",
    "        \"Share_Price\": 150.00,\n",
    "        \"Description\": \"Share price for Apple Inc. in September 2021\"\n",
    "    },\n",
    "    {\n",
    "        \"Ticker\": \"MSFT\",\n",
    "        \"Company\": \"Microsoft Corporation\",\n",
    "        \"Industry\": \"Technology\",\n",
    "        \"Market Cap\": \"Trillion Dollars\",\n",
    "        \"Share_Price\": 300.00,\n",
    "        \"Description\": \"Share price for Microsoft Corporation in September 2021\"\n",
    "    },\n",
    "    {\n",
    "        \"Ticker\": \"AMZN\",\n",
    "        \"Company\": \"Amazon.com Inc.\",\n",
    "        \"Industry\": \"E-commerce\",\n",
    "        \"Market Cap\": \"Trillion Dollars\",\n",
    "        \"Share_Price\": 3400.00,\n",
    "        \"Description\": \"Share price for Amazon.com Inc. in September 2021\"\n",
    "    },\n",
    "    {\n",
    "        \"Ticker\": \"GOOGL\",\n",
    "        \"Company\": \"Alphabet Inc. (Google)\",\n",
    "        \"Industry\": \"Technology\",\n",
    "        \"Market Cap\": \"Trillion Dollars\",\n",
    "        \"Share_Price\": 2700.00,\n",
    "        \"Description\": \"Share price for Alphabet Inc. in September 2021\"\n",
    "    },\n",
    "    {\n",
    "        \"Ticker\": \"FB\",\n",
    "        \"Company\": \"Meta Platforms, Inc. (Facebook)\",\n",
    "        \"Industry\": \"Social Media\",\n",
    "        \"Market Cap\": \"Trillion Dollars\",\n",
    "        \"Share_Price\": 330.00,\n",
    "        \"Description\": \"Share price for Meta Platforms, Inc. in September 2021\"\n",
    "    }\n",
    "]\n",
    "# Load dict to DataFrame\n",
    "df_nasdaq=pd.DataFrame(nasdaq_top_companies)\n",
    "print(df_nasdaq)"
   ]
  },
  {
   "cell_type": "code",
   "execution_count": 54,
   "metadata": {},
   "outputs": [
    {
     "data": {
      "text/html": [
       "<div>\n",
       "<style scoped>\n",
       "    .dataframe tbody tr th:only-of-type {\n",
       "        vertical-align: middle;\n",
       "    }\n",
       "\n",
       "    .dataframe tbody tr th {\n",
       "        vertical-align: top;\n",
       "    }\n",
       "\n",
       "    .dataframe thead th {\n",
       "        text-align: right;\n",
       "    }\n",
       "</style>\n",
       "<table border=\"1\" class=\"dataframe\">\n",
       "  <thead>\n",
       "    <tr style=\"text-align: right;\">\n",
       "      <th></th>\n",
       "      <th>Ticker</th>\n",
       "      <th>Company</th>\n",
       "      <th>Industry</th>\n",
       "      <th>Market Cap</th>\n",
       "      <th>Share_Price</th>\n",
       "      <th>Description</th>\n",
       "    </tr>\n",
       "  </thead>\n",
       "  <tbody>\n",
       "    <tr>\n",
       "      <th>0</th>\n",
       "      <td>AAPL</td>\n",
       "      <td>Apple Inc.</td>\n",
       "      <td>Technology</td>\n",
       "      <td>Trillion Dollars</td>\n",
       "      <td>150.0</td>\n",
       "      <td>Share price for Apple Inc. in September 2021</td>\n",
       "    </tr>\n",
       "    <tr>\n",
       "      <th>1</th>\n",
       "      <td>MSFT</td>\n",
       "      <td>Microsoft Corporation</td>\n",
       "      <td>Technology</td>\n",
       "      <td>Trillion Dollars</td>\n",
       "      <td>300.0</td>\n",
       "      <td>Share price for Microsoft Corporation in Septe...</td>\n",
       "    </tr>\n",
       "    <tr>\n",
       "      <th>2</th>\n",
       "      <td>AMZN</td>\n",
       "      <td>Amazon.com Inc.</td>\n",
       "      <td>E-commerce</td>\n",
       "      <td>Trillion Dollars</td>\n",
       "      <td>3400.0</td>\n",
       "      <td>Share price for Amazon.com Inc. in September 2021</td>\n",
       "    </tr>\n",
       "    <tr>\n",
       "      <th>3</th>\n",
       "      <td>GOOGL</td>\n",
       "      <td>Alphabet Inc. (Google)</td>\n",
       "      <td>Technology</td>\n",
       "      <td>Trillion Dollars</td>\n",
       "      <td>2700.0</td>\n",
       "      <td>Share price for Alphabet Inc. in September 2021</td>\n",
       "    </tr>\n",
       "    <tr>\n",
       "      <th>4</th>\n",
       "      <td>FB</td>\n",
       "      <td>Meta Platforms, Inc. (Facebook)</td>\n",
       "      <td>Social Media</td>\n",
       "      <td>Trillion Dollars</td>\n",
       "      <td>330.0</td>\n",
       "      <td>Share price for Meta Platforms, Inc. in Septem...</td>\n",
       "    </tr>\n",
       "  </tbody>\n",
       "</table>\n",
       "</div>"
      ],
      "text/plain": [
       "  Ticker                          Company      Industry        Market Cap  \\\n",
       "0   AAPL                       Apple Inc.    Technology  Trillion Dollars   \n",
       "1   MSFT            Microsoft Corporation    Technology  Trillion Dollars   \n",
       "2   AMZN                  Amazon.com Inc.    E-commerce  Trillion Dollars   \n",
       "3  GOOGL           Alphabet Inc. (Google)    Technology  Trillion Dollars   \n",
       "4     FB  Meta Platforms, Inc. (Facebook)  Social Media  Trillion Dollars   \n",
       "\n",
       "   Share_Price                                        Description  \n",
       "0        150.0       Share price for Apple Inc. in September 2021  \n",
       "1        300.0  Share price for Microsoft Corporation in Septe...  \n",
       "2       3400.0  Share price for Amazon.com Inc. in September 2021  \n",
       "3       2700.0    Share price for Alphabet Inc. in September 2021  \n",
       "4        330.0  Share price for Meta Platforms, Inc. in Septem...  "
      ]
     },
     "execution_count": 54,
     "metadata": {},
     "output_type": "execute_result"
    }
   ],
   "source": [
    "df_nasdaq"
   ]
  },
  {
   "cell_type": "code",
   "execution_count": 55,
   "metadata": {},
   "outputs": [
    {
     "ename": "FileExistsError",
     "evalue": "[WinError 183] Impossible de créer un fichier déjà existant: './MARKET_DATA/'",
     "output_type": "error",
     "traceback": [
      "\u001b[1;31m---------------------------------------------------------------------------\u001b[0m",
      "\u001b[1;31mFileExistsError\u001b[0m                           Traceback (most recent call last)",
      "Cell \u001b[1;32mIn[55], line 4\u001b[0m\n\u001b[0;32m      1\u001b[0m \u001b[38;5;28;01mimport\u001b[39;00m \u001b[38;5;21;01mos\u001b[39;00m\n\u001b[0;32m      2\u001b[0m \u001b[38;5;28;01mimport\u001b[39;00m \u001b[38;5;21;01mglob\u001b[39;00m\n\u001b[1;32m----> 4\u001b[0m \u001b[43mos\u001b[49m\u001b[38;5;241;43m.\u001b[39;49m\u001b[43mmkdir\u001b[49m\u001b[43m(\u001b[49m\u001b[38;5;124;43mr\u001b[39;49m\u001b[38;5;124;43m'\u001b[39;49m\u001b[38;5;124;43m./MARKET_DATA/\u001b[39;49m\u001b[38;5;124;43m'\u001b[39;49m\u001b[43m)\u001b[49m\n",
      "\u001b[1;31mFileExistsError\u001b[0m: [WinError 183] Impossible de créer un fichier déjà existant: './MARKET_DATA/'"
     ]
    }
   ],
   "source": [
    "import os\n",
    "import glob\n",
    "\n",
    "os.mkdir(r'./MARKET_DATA/')"
   ]
  },
  {
   "cell_type": "code",
   "execution_count": 34,
   "metadata": {},
   "outputs": [],
   "source": [
    "def CreateCsvFile(df, PrefixName: str):\n",
    "    '''\n",
    "    The function CreateCsvFile enables to create multiple csv files by tickers \n",
    "    from a dataframe and a prefix as the filename.\n",
    "    '''\n",
    "    for line, ticker in zip(df['Ticker'], df['Ticker']):\n",
    "        pathName = r'./MARKET_DATA/'+ str(PrefixName) +str(ticker)+'.csv'\n",
    "        df[df['Ticker']==line].to_csv(pathName, index=False)\n",
    "        print(pathName)\n",
    "    return None\n",
    "\n"
   ]
  },
  {
   "cell_type": "code",
   "execution_count": 36,
   "metadata": {},
   "outputs": [
    {
     "name": "stdout",
     "output_type": "stream",
     "text": [
      "./MARKET_DATA/NASDAQ_AAPL.csv\n",
      "./MARKET_DATA/NASDAQ_MSFT.csv\n",
      "./MARKET_DATA/NASDAQ_AMZN.csv\n",
      "./MARKET_DATA/NASDAQ_GOOGL.csv\n",
      "./MARKET_DATA/NASDAQ_FB.csv\n"
     ]
    }
   ],
   "source": [
    "x = CreateCsvFile(df_nasdaq, 'NASDAQ_')"
   ]
  },
  {
   "cell_type": "code",
   "execution_count": 38,
   "metadata": {},
   "outputs": [
    {
     "name": "stdout",
     "output_type": "stream",
     "text": [
      "None\n"
     ]
    }
   ],
   "source": [
    "print(x)\n"
   ]
  },
  {
   "cell_type": "code",
   "execution_count": 41,
   "metadata": {},
   "outputs": [],
   "source": [
    "# Assign the folder to parse\n",
    "pathFolder = r'.\\MARKET_DATA'\n",
    "# Parse the folder\n",
    "walkFolder = [path[0] for path in os.walk (pathFolder)]\n",
    "# Initialize list\n",
    "listOfFile = []\n",
    "# Loop on the folder\n",
    "for folder in walkFolder:\n",
    "    # Assign folder path\n",
    "    folderName = os.path.basename(folder)\n",
    "    # Assign folder path joined to a file type searched\n",
    "    files = os.path.join(folder, 'NASDAQ_*.csv')\n",
    "    # Store the file path matching the file type searched\n",
    "    listOfFile = glob.glob(files)"
   ]
  },
  {
   "cell_type": "code",
   "execution_count": 42,
   "metadata": {},
   "outputs": [
    {
     "data": {
      "text/plain": [
       "['.\\\\MARKET_DATA\\\\NASDAQ_AAPL.csv',\n",
       " '.\\\\MARKET_DATA\\\\NASDAQ_AMZN.csv',\n",
       " '.\\\\MARKET_DATA\\\\NASDAQ_FB.csv',\n",
       " '.\\\\MARKET_DATA\\\\NASDAQ_GOOGL.csv',\n",
       " '.\\\\MARKET_DATA\\\\NASDAQ_MSFT.csv']"
      ]
     },
     "execution_count": 42,
     "metadata": {},
     "output_type": "execute_result"
    }
   ],
   "source": [
    "listOfFile"
   ]
  },
  {
   "cell_type": "code",
   "execution_count": 43,
   "metadata": {},
   "outputs": [],
   "source": [
    "# Initialize list\n",
    "full_list = []\n",
    "# Loop on all files\n",
    "for file in listOfFile:\n",
    "    # Import data to a Dataframe\n",
    "    full_file = pd.read_csv(file, dtype = str).reset_index(drop = True)\n",
    "    # Assign the file path to the file_name columns\n",
    "    full_file['file_name']=os.path.basename(file)\n",
    "    # Append the DataFrame to the list initialized\n",
    "    full_list.append(full_file)\n",
    "# Merge the list of DataFrames to a single DataFrame\n",
    "fileConcat = pd.concat(full_list)"
   ]
  },
  {
   "cell_type": "code",
   "execution_count": 58,
   "metadata": {},
   "outputs": [
    {
     "name": "stdout",
     "output_type": "stream",
     "text": [
      "[  Ticker     Company    Industry        Market Cap Share_Price  \\\n",
      "0   AAPL  Apple Inc.  Technology  Trillion Dollars       150.0   \n",
      "\n",
      "                                    Description        file_name  \n",
      "0  Share price for Apple Inc. in September 2021  NASDAQ_AAPL.csv  ,   Ticker          Company    Industry        Market Cap Share_Price  \\\n",
      "0   AMZN  Amazon.com Inc.  E-commerce  Trillion Dollars      3400.0   \n",
      "\n",
      "                                         Description        file_name  \n",
      "0  Share price for Amazon.com Inc. in September 2021  NASDAQ_AMZN.csv  ,   Ticker                          Company      Industry        Market Cap  \\\n",
      "0     FB  Meta Platforms, Inc. (Facebook)  Social Media  Trillion Dollars   \n",
      "\n",
      "  Share_Price                                        Description  \\\n",
      "0       330.0  Share price for Meta Platforms, Inc. in Septem...   \n",
      "\n",
      "       file_name  \n",
      "0  NASDAQ_FB.csv  ,   Ticker                 Company    Industry        Market Cap Share_Price  \\\n",
      "0  GOOGL  Alphabet Inc. (Google)  Technology  Trillion Dollars      2700.0   \n",
      "\n",
      "                                       Description         file_name  \n",
      "0  Share price for Alphabet Inc. in September 2021  NASDAQ_GOOGL.csv  ,   Ticker                Company    Industry        Market Cap Share_Price  \\\n",
      "0   MSFT  Microsoft Corporation  Technology  Trillion Dollars       300.0   \n",
      "\n",
      "                                         Description        file_name  \n",
      "0  Share price for Microsoft Corporation in Septe...  NASDAQ_MSFT.csv  ]\n",
      "  Ticker                          Company      Industry        Market Cap  \\\n",
      "0   AAPL                       Apple Inc.    Technology  Trillion Dollars   \n",
      "0   AMZN                  Amazon.com Inc.    E-commerce  Trillion Dollars   \n",
      "0     FB  Meta Platforms, Inc. (Facebook)  Social Media  Trillion Dollars   \n",
      "0  GOOGL           Alphabet Inc. (Google)    Technology  Trillion Dollars   \n",
      "0   MSFT            Microsoft Corporation    Technology  Trillion Dollars   \n",
      "\n",
      "  Share_Price                                        Description  \\\n",
      "0       150.0       Share price for Apple Inc. in September 2021   \n",
      "0      3400.0  Share price for Amazon.com Inc. in September 2021   \n",
      "0       330.0  Share price for Meta Platforms, Inc. in Septem...   \n",
      "0      2700.0    Share price for Alphabet Inc. in September 2021   \n",
      "0       300.0  Share price for Microsoft Corporation in Septe...   \n",
      "\n",
      "          file_name  \n",
      "0   NASDAQ_AAPL.csv  \n",
      "0   NASDAQ_AMZN.csv  \n",
      "0     NASDAQ_FB.csv  \n",
      "0  NASDAQ_GOOGL.csv  \n",
      "0   NASDAQ_MSFT.csv  \n"
     ]
    }
   ],
   "source": [
    "print(full_list)\n",
    "print(fileConcat)"
   ]
  }
 ],
 "metadata": {
  "kernelspec": {
   "display_name": ".venv",
   "language": "python",
   "name": "python3"
  },
  "language_info": {
   "codemirror_mode": {
    "name": "ipython",
    "version": 3
   },
   "file_extension": ".py",
   "mimetype": "text/x-python",
   "name": "python",
   "nbconvert_exporter": "python",
   "pygments_lexer": "ipython3",
   "version": "3.12.6"
  }
 },
 "nbformat": 4,
 "nbformat_minor": 2
}
